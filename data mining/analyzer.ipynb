{
 "cells": [
  {
   "cell_type": "code",
   "execution_count": null,
   "id": "49d7bd90",
   "metadata": {},
   "outputs": [],
   "source": [
    "splitSize = 10\n",
    "\n",
    "import pandas as pd\n"
   ]
  },
  {
   "cell_type": "code",
   "execution_count": null,
   "id": "516ab866",
   "metadata": {},
   "outputs": [],
   "source": [
    "dfs = []\n",
    "\n",
    "for i in range(1, splitSize+1):\n",
    "    df = pd.read_csv(f\"outputs/github_repos_part{i}.csv\")\n",
    "    dfs.append(df)"
   ]
  },
  {
   "cell_type": "code",
   "execution_count": null,
   "id": "a0a7dcc2",
   "metadata": {},
   "outputs": [],
   "source": [
    "fullSet = pd.concat(dfs, ignore_index=True)"
   ]
  },
  {
   "cell_type": "code",
   "execution_count": null,
   "id": "c2483dd6",
   "metadata": {},
   "outputs": [],
   "source": [
    "fullSet[\"active_time\"] = pd.to_datetime(fullSet[\"updated_at\"]) - pd.to_datetime(fullSet[\"created_at\"])\n",
    "\n",
    "average_active_time = fullSet[\"active_time\"].median()\n",
    "print(\"Average active time:\", average_active_time)"
   ]
  }
 ],
 "metadata": {
  "kernelspec": {
   "display_name": "Python 3",
   "language": "python",
   "name": "python3"
  },
  "language_info": {
   "codemirror_mode": {
    "name": "ipython",
    "version": 3
   },
   "file_extension": ".py",
   "mimetype": "text/x-python",
   "name": "python",
   "nbconvert_exporter": "python",
   "pygments_lexer": "ipython3",
   "version": "3.12.9"
  }
 },
 "nbformat": 4,
 "nbformat_minor": 5
}
