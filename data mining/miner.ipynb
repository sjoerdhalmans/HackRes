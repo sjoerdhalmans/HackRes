{
 "cells": [
  {
   "cell_type": "code",
   "execution_count": null,
   "id": "05f346dd",
   "metadata": {},
   "outputs": [],
   "source": [
    "# Util queries\n",
    "# \"https://api.github.com/search/repositories?q=hackathon&per_page=5&page=1\"\n",
    "# \"https://api.github.com/search/repositories?q=topic:Hackathon&per_page=1000&page=1\""
   ]
  },
  {
   "cell_type": "code",
   "execution_count": null,
   "id": "7806f2a1",
   "metadata": {},
   "outputs": [],
   "source": [
    "# Settings & variables\n",
    "hide_Token = True\n",
    "required_requests = 2810"
   ]
  },
  {
   "cell_type": "code",
   "execution_count": null,
   "id": "47442cc6",
   "metadata": {},
   "outputs": [],
   "source": [
    "import requests\n",
    "import json\n",
    "from dotenv import load_dotenv\n",
    "import os\n",
    "\n",
    "load_dotenv(\"./token.env\")\n",
    "api_token = os.getenv(\"API_TOKEN\")\n",
    "\n",
    "if not hide_Token:\n",
    "    print(f\"API Token: {api_token}\")\n"
   ]
  },
  {
   "cell_type": "code",
   "execution_count": null,
   "id": "dc1cb962",
   "metadata": {},
   "outputs": [],
   "source": [
    "from datetime import datetime, timedelta, timezone\n",
    "import time\n",
    "import pandas as pd\n",
    "\n",
    "dataframes = []\n",
    "headers = {\"Authorization\": f\"token {api_token}\"}\n",
    "\n",
    "start_date = datetime.now(timezone.utc) - timedelta(days=5*365)\n",
    "end_date = datetime.now(timezone.utc)\n",
    "\n",
    "current_date = start_date"
   ]
  },
  {
   "cell_type": "code",
   "execution_count": null,
   "id": "2a7fb85f",
   "metadata": {},
   "outputs": [],
   "source": [
    "\n",
    "while current_date <= end_date:\n",
    "    date_str = current_date.strftime(\"%Y-%m-%d\")\n",
    "    page = 1\n",
    "    while True:\n",
    "        query = f\"hackathon created:{date_str}\"\n",
    "        api_url = f\"https://api.github.com/search/repositories?q={query}&per_page=100&page={page}\"\n",
    "        response = requests.get(api_url, headers=headers)\n",
    "        if response.status_code != 200:\n",
    "            print(f\"Request failed for {date_str} page {page} with status code: {response.status_code}\")\n",
    "            time.sleep(2)\n",
    "            break\n",
    "        repos = response.json().get(\"items\", [])\n",
    "        if not repos:\n",
    "            break\n",
    "        df = pd.DataFrame(repos)\n",
    "        dataframes.append(df)\n",
    "        print(f\"Processed {date_str}, page {page}, found {len(repos)} repos.\")\n",
    "        if len(repos) < 100 or page == 10:  # GitHub Search API max 10 pages\n",
    "            break\n",
    "        page += 1\n",
    "        time.sleep(2)  # Respect rate limits\n",
    "    current_date += timedelta(days=1)\n",
    "    time.sleep(2)  # Respect rate limits\n",
    "\n",
    "if dataframes:\n",
    "    all_repos_df = pd.concat(dataframes, ignore_index=True)\n",
    "    all_repos_df.to_excel(\"github_repos.xlsx\", index=False)\n",
    "else:\n",
    "    print(\"No data collected.\")"
   ]
  },
  {
   "cell_type": "code",
   "execution_count": null,
   "id": "f2ce6232",
   "metadata": {},
   "outputs": [],
   "source": [
    "all_repos_df = pd.concat(dataframes, ignore_index=True)\n",
    "all_repos_df.to_excel(\"github_repos2.xlsx\", index=False)"
   ]
  },
  {
   "cell_type": "code",
   "execution_count": null,
   "id": "7f7372d0",
   "metadata": {},
   "outputs": [],
   "source": [
    "# # Display a small overview of the GitHub API response\n",
    "# from datetime import datetime\n",
    "# import json\n",
    "# overview = {\n",
    "#     \"total_count\": response.json().get(\"total_count\"),\n",
    "#     \"incomplete_results\": response.json().get(\"incomplete_results\"),\n",
    "#     \"items_count\": len(response.json().get(\"items\", [])),\n",
    "#     \"first_repo_name\": response.json().get(\"items\", [{}])[0].get(\"name\") if response.json().get(\"items\") else None\n",
    "# }\n",
    "\n",
    "# print(overview)\n",
    "\n",
    "# first_repo = response.json().get(\"items\", [{}])[0]\n",
    "# # print(json.dumps(first_repo, indent=2))\n",
    "# print(first_repo.get(\"created_at\"))\n",
    "# print(first_repo.get(\"pushed_at\"))\n",
    "\n",
    "# from datetime import datetime\n",
    "\n",
    "# first_repo = response.json().get(\"items\", [{}])[0]\n",
    "# created_at = first_repo.get(\"created_at\")\n",
    "# pushed_at = first_repo.get(\"pushed_at\")\n",
    "\n",
    "# if created_at and pushed_at:\n",
    "#     created_dt = datetime.strptime(created_at, \"%Y-%m-%dT%H:%M:%SZ\")\n",
    "#     pushed_dt = datetime.strptime(pushed_at, \"%Y-%m-%dT%H:%M:%SZ\")\n",
    "#     active_time = pushed_dt - created_dt\n",
    "#     print(f\"Active time: {active_time}\")\n",
    "# else:\n",
    "#     print(\"Timestamps not found.\")\n",
    "\n",
    "# from datetime import datetime\n",
    "\n",
    "# first_repo = response.json().get(\"items\", [{}])[1]\n",
    "# created_at = first_repo.get(\"created_at\")\n",
    "# pushed_at = first_repo.get(\"pushed_at\")\n",
    "\n",
    "# if created_at and pushed_at:\n",
    "#     created_dt = datetime.strptime(created_at, \"%Y-%m-%dT%H:%M:%SZ\")\n",
    "#     pushed_dt = datetime.strptime(pushed_at, \"%Y-%m-%dT%H:%M:%SZ\")\n",
    "#     active_time = pushed_dt - created_dt\n",
    "#     print(f\"Active time: {active_time}\")\n",
    "# else:\n",
    "#     print(\"Timestamps not found.\")"
   ]
  },
  {
   "cell_type": "code",
   "execution_count": null,
   "id": "6b973595",
   "metadata": {},
   "outputs": [],
   "source": [
    "# # ...existing code...\n",
    "# repos = response.json().get(\"items\", [])\n",
    "# for repo in repos:\n",
    "#     print(repo.get(\"html_url\"))\n",
    "# # ...existing"
   ]
  }
 ],
 "metadata": {
  "kernelspec": {
   "display_name": "Python 3",
   "language": "python",
   "name": "python3"
  },
  "language_info": {
   "codemirror_mode": {
    "name": "ipython",
    "version": 3
   },
   "file_extension": ".py",
   "mimetype": "text/x-python",
   "name": "python",
   "nbconvert_exporter": "python",
   "pygments_lexer": "ipython3",
   "version": "3.12.9"
  }
 },
 "nbformat": 4,
 "nbformat_minor": 5
}
