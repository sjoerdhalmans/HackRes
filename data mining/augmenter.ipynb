{
 "cells": [
  {
   "cell_type": "code",
   "execution_count": null,
   "id": "8e7bed89",
   "metadata": {},
   "outputs": [],
   "source": [
    "import requests\n",
    "from dotenv import load_dotenv\n",
    "import os\n",
    "import numpy as np\n",
    "import time\n",
    "import pandas as pd\n",
    "import base64\n",
    "import ast"
   ]
  },
  {
   "cell_type": "code",
   "execution_count": null,
   "id": "427f582a",
   "metadata": {},
   "outputs": [],
   "source": [
    "dfs = []\n",
    "splitSize = 10\n",
    "\n",
    "for i in range(1, splitSize+1):\n",
    "    df = pd.read_csv(f\"outputs/github_repos_part{i}.csv\")\n",
    "    dfs.append(df)\n",
    "\n",
    "fullSet = pd.concat(dfs, ignore_index=True)\n",
    "\n",
    "i = 0\n",
    "api_token = os.getenv(\"API_TOKEN\")"
   ]
  },
  {
   "cell_type": "code",
   "execution_count": null,
   "id": "f2be89a0",
   "metadata": {},
   "outputs": [],
   "source": [
    "load_dotenv(\"./token.env\")\n",
    "api_token = os.getenv(\"API_TOKEN\")\n",
    "while i < len(fullSet):\n",
    "    time.sleep(1)  # To respect rate limits\n",
    "    owner = ast.literal_eval(fullSet.iloc[i].owner).get(\"login\")\n",
    "    repo = fullSet.iloc[i].name\n",
    "\n",
    "    fullName = fullSet.iloc[i].full_name\n",
    "\n",
    "    headers = {\"Authorization\": f\"token {api_token}\"}\n",
    "\n",
    "    api_url = f\"https://api.github.com/repos/{fullName}/readme\"\n",
    "\n",
    "    try:\n",
    "        response = requests.get(api_url, headers=headers)\n",
    "    except: \n",
    "        print(\"Request failed, waiting before retrying\")\n",
    "        time.sleep(60)\n",
    "        continue\n",
    "    \n",
    "\n",
    "    if response.status_code == 200:\n",
    "        readme_data = response.json()\n",
    "        if 'content' in readme_data:\n",
    "            readme_content = base64.b64decode(readme_data['content']).decode('utf-8')\n",
    "            fullSet.at[i, 'readme'] = readme_content\n",
    "        else:\n",
    "            print(\"No content found in the README response.\")\n",
    "        i = i + 1\n",
    "        print(f\"{i-1} done\")\n",
    "    elif response.status_code == 404:\n",
    "        print(\"README not found for this repository.\")\n",
    "        i = i + 1\n",
    "        print(f\"{i-1} done\")\n",
    "    elif response.status_code == 403:\n",
    "        print(\"Rate limit exceeded. Waiting before retrying.\")\n",
    "        time.sleep(60)\n",
    "    else:\n",
    "        print(f\"Called for {api_url}\")\n",
    "        print(f\"Failed with status code: {response.status_code}\")\n",
    "        print(f\"Response text: {response.text}\")\n",
    "        \n",
    "\n"
   ]
  },
  {
   "cell_type": "code",
   "execution_count": null,
   "id": "e4041839",
   "metadata": {},
   "outputs": [],
   "source": [
    "splitSize = 10\n",
    "split_dfs = np.array_split(fullSet, splitSize)\n",
    "for i in range(0, splitSize):\n",
    "    df = split_dfs[i]\n",
    "    df.to_csv(f\"outputs/aug/github_repos_readme_part{i+1}.csv\", index=False)"
   ]
  }
 ],
 "metadata": {
  "kernelspec": {
   "display_name": "Python 3",
   "language": "python",
   "name": "python3"
  },
  "language_info": {
   "codemirror_mode": {
    "name": "ipython",
    "version": 3
   },
   "file_extension": ".py",
   "mimetype": "text/x-python",
   "name": "python",
   "nbconvert_exporter": "python",
   "pygments_lexer": "ipython3",
   "version": "3.12.9"
  }
 },
 "nbformat": 4,
 "nbformat_minor": 5
}
